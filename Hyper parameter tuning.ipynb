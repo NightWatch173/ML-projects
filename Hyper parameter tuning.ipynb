{
 "cells": [
  {
   "cell_type": "code",
   "execution_count": null,
   "id": "9e7ddaa0",
   "metadata": {},
   "outputs": [],
   "source": []
  },
  {
   "cell_type": "code",
   "execution_count": null,
   "id": "ab06256f",
   "metadata": {},
   "outputs": [],
   "source": []
  },
  {
   "cell_type": "code",
   "execution_count": null,
   "id": "a69519ef",
   "metadata": {},
   "outputs": [],
   "source": []
  },
  {
   "cell_type": "code",
   "execution_count": 29,
   "id": "04e757d2",
   "metadata": {},
   "outputs": [],
   "source": [
    "import pandas as pd\n",
    "from seaborn import load_dataset\n",
    "\n",
    "# Load dataset and drop any missing values\n",
    "df = load_dataset('penguins')\n",
    "df = df.dropna(how='any')\n",
    "\n",
    "# Create features and target variables\n",
    "X = df.drop(columns=['species', 'island', 'sex'])\n",
    "y = df['species']"
   ]
  },
  {
   "cell_type": "code",
   "execution_count": 30,
   "id": "1f4ada9d",
   "metadata": {},
   "outputs": [
    {
     "name": "stdout",
     "output_type": "stream",
     "text": [
      "   bill_length_mm  bill_depth_mm  flipper_length_mm  body_mass_g\n",
      "0            39.1           18.7              181.0       3750.0\n",
      "1            39.5           17.4              186.0       3800.0\n",
      "2            40.3           18.0              195.0       3250.0\n",
      "4            36.7           19.3              193.0       3450.0\n",
      "5            39.3           20.6              190.0       3650.0\n"
     ]
    }
   ],
   "source": [
    "print(X.head())"
   ]
  },
  {
   "cell_type": "code",
   "execution_count": 31,
   "id": "bb130e07",
   "metadata": {},
   "outputs": [
    {
     "name": "stdout",
     "output_type": "stream",
     "text": [
      "0    Adelie\n",
      "1    Adelie\n",
      "2    Adelie\n",
      "4    Adelie\n",
      "5    Adelie\n",
      "Name: species, dtype: object\n"
     ]
    }
   ],
   "source": [
    "print(y.head())"
   ]
  },
  {
   "cell_type": "code",
   "execution_count": 32,
   "id": "a0ada1cb",
   "metadata": {},
   "outputs": [],
   "source": [
    "# Splitting your data into training and testing data\n",
    "from sklearn.model_selection import train_test_split\n",
    "\n",
    "X_train, X_test, y_train, y_test = train_test_split(\n",
    "    X, \n",
    "    y, \n",
    "    test_size = 0.2, \n",
    "    random_state = 1234\n",
    ")"
   ]
  },
  {
   "cell_type": "code",
   "execution_count": 33,
   "id": "039d367e",
   "metadata": {},
   "outputs": [],
   "source": [
    "from sklearn.neighbors import KNeighborsClassifier\n",
    "from sklearn.model_selection import GridSearchCV\n",
    "\n",
    "knn = KNeighborsClassifier()\n",
    "params = {\n",
    "    'n_neighbors': [3,5,7,9,11,13],\n",
    "    'weights': ['uniform', 'distance'],\n",
    "    'p': [1,2]\n",
    "}\n",
    "\n",
    "clf = GridSearchCV(\n",
    "    estimator=knn,\n",
    "    param_grid=params,\n",
    "    cv=5,\n",
    "    n_jobs=5,\n",
    "    verbose=1\n",
    ")"
   ]
  },
  {
   "cell_type": "code",
   "execution_count": 34,
   "id": "7c59fb67",
   "metadata": {},
   "outputs": [
    {
     "name": "stdout",
     "output_type": "stream",
     "text": [
      "Fitting 5 folds for each of 24 candidates, totalling 120 fits\n"
     ]
    },
    {
     "data": {
      "text/plain": [
       "GridSearchCV(cv=5, estimator=KNeighborsClassifier(), n_jobs=5,\n",
       "             param_grid={'n_neighbors': [3, 5, 7, 9, 11, 13], 'p': [1, 2],\n",
       "                         'weights': ['uniform', 'distance']},\n",
       "             verbose=1)"
      ]
     },
     "execution_count": 34,
     "metadata": {},
     "output_type": "execute_result"
    }
   ],
   "source": [
    "clf.fit(X_train,y_train)"
   ]
  },
  {
   "cell_type": "code",
   "execution_count": 35,
   "id": "5918f3e5",
   "metadata": {},
   "outputs": [
    {
     "data": {
      "text/plain": [
       "0.7761194029850746"
      ]
     },
     "execution_count": 35,
     "metadata": {},
     "output_type": "execute_result"
    }
   ],
   "source": [
    "\n",
    "clf.score(X_test,y_test)"
   ]
  },
  {
   "cell_type": "code",
   "execution_count": 36,
   "id": "5b9f5239",
   "metadata": {},
   "outputs": [
    {
     "name": "stdout",
     "output_type": "stream",
     "text": [
      "{'n_neighbors': 11, 'p': 1, 'weights': 'distance'}\n",
      "Best Score:  0.8381551362683439\n"
     ]
    }
   ],
   "source": [
    "print(clf.best_params_)\n",
    "print('Best Score: ', clf.best_score_)\n"
   ]
  },
  {
   "cell_type": "code",
   "execution_count": null,
   "id": "d367f1ce",
   "metadata": {},
   "outputs": [],
   "source": []
  }
 ],
 "metadata": {
  "kernelspec": {
   "display_name": "Python 3 (ipykernel)",
   "language": "python",
   "name": "python3"
  },
  "language_info": {
   "codemirror_mode": {
    "name": "ipython",
    "version": 3
   },
   "file_extension": ".py",
   "mimetype": "text/x-python",
   "name": "python",
   "nbconvert_exporter": "python",
   "pygments_lexer": "ipython3",
   "version": "3.8.8"
  }
 },
 "nbformat": 4,
 "nbformat_minor": 5
}
